{
  "nbformat": 4,
  "nbformat_minor": 0,
  "metadata": {
    "colab": {
      "provenance": [],
      "authorship_tag": "ABX9TyN9yqP1gJGd2oybZfRKu2j8",
      "include_colab_link": true
    },
    "kernelspec": {
      "name": "python3",
      "display_name": "Python 3"
    },
    "language_info": {
      "name": "python"
    }
  },
  "cells": [
    {
      "cell_type": "markdown",
      "metadata": {
        "id": "view-in-github",
        "colab_type": "text"
      },
      "source": [
        "<a href=\"https://colab.research.google.com/github/edsonflavio/TE-PLNACG2024/blob/main/Ler_PDF_usando_PyPDF2.ipynb\" target=\"_parent\"><img src=\"https://colab.research.google.com/assets/colab-badge.svg\" alt=\"Open In Colab\"/></a>"
      ]
    },
    {
      "cell_type": "code",
      "source": [
        "!pip3 install PyPDF2"
      ],
      "metadata": {
        "colab": {
          "base_uri": "https://localhost:8080/"
        },
        "id": "qF3W1qP4ErBE",
        "outputId": "95a83f16-cf89-4ab4-a184-20d448f0d122"
      },
      "execution_count": 6,
      "outputs": [
        {
          "output_type": "stream",
          "name": "stdout",
          "text": [
            "Collecting PyPDF2\n",
            "  Downloading pypdf2-3.0.1-py3-none-any.whl (232 kB)\n",
            "\u001b[?25l     \u001b[90m━━━━━━━━━━━━━━━━━━━━━━━━━━━━━━━━━━━━━━━━\u001b[0m \u001b[32m0.0/232.6 kB\u001b[0m \u001b[31m?\u001b[0m eta \u001b[36m-:--:--\u001b[0m\r\u001b[2K     \u001b[91m━━━━━━━━━━━━━━━\u001b[0m\u001b[91m╸\u001b[0m\u001b[90m━━━━━━━━━━━━━━━━━━━━━━━━\u001b[0m \u001b[32m92.2/232.6 kB\u001b[0m \u001b[31m2.7 MB/s\u001b[0m eta \u001b[36m0:00:01\u001b[0m\r\u001b[2K     \u001b[90m━━━━━━━━━━━━━━━━━━━━━━━━━━━━━━━━━━━━━━━━\u001b[0m \u001b[32m232.6/232.6 kB\u001b[0m \u001b[31m4.2 MB/s\u001b[0m eta \u001b[36m0:00:00\u001b[0m\n",
            "\u001b[?25hInstalling collected packages: PyPDF2\n",
            "Successfully installed PyPDF2-3.0.1\n"
          ]
        }
      ]
    },
    {
      "cell_type": "code",
      "source": [
        "# prompt: conectar no meu drive\n",
        "\n",
        "from google.colab import drive\n",
        "drive.mount('/content/drive')\n"
      ],
      "metadata": {
        "colab": {
          "base_uri": "https://localhost:8080/"
        },
        "id": "3nyAUJi4FJxK",
        "outputId": "c2e364a4-8d6c-48e7-ab4e-45000b68efad"
      },
      "execution_count": 9,
      "outputs": [
        {
          "output_type": "stream",
          "name": "stdout",
          "text": [
            "Mounted at /content/drive\n"
          ]
        }
      ]
    },
    {
      "cell_type": "code",
      "source": [
        "!cd drive/MyDrive/TE-PLNCG2024/ && ls *.* -al"
      ],
      "metadata": {
        "colab": {
          "base_uri": "https://localhost:8080/"
        },
        "id": "6vJQh62iFnYu",
        "outputId": "467e2cb1-0807-430c-c51c-207b91d35fbf"
      },
      "execution_count": 66,
      "outputs": [
        {
          "output_type": "stream",
          "name": "stdout",
          "text": [
            "-rw------- 1 root root 16029 Apr  4 19:04 'Ler PDF usando PyPDF2.ipynb'\n",
            "-rw------- 1 root root 15784 Apr  4 19:03 'Ler PDF usando PyTeserat.ipynb'\n"
          ]
        }
      ]
    },
    {
      "cell_type": "code",
      "source": [],
      "metadata": {
        "id": "BMssR7rbGAEJ"
      },
      "execution_count": null,
      "outputs": []
    },
    {
      "cell_type": "code",
      "execution_count": 17,
      "metadata": {
        "id": "xYVj_kOMEDVL"
      },
      "outputs": [],
      "source": [
        "import PyPDF2\n",
        "from collections import Counter"
      ]
    },
    {
      "cell_type": "code",
      "source": [
        "file1 = open('/content/drive/MyDrive/Resumo 01 MARCELO JOSE PEREIRA DA CUNHA.pdf', 'rb')\n",
        "file2 = open('/content/drive/MyDrive/Resumo 02 VITOR CORREA DE BRITO.pdf', 'rb')\n",
        "\n",
        "pdf_reader1 = PyPDF2.PdfReader(file1)\n",
        "pdf_reader2 = PyPDF2.PdfReader(file2)"
      ],
      "metadata": {
        "id": "g16tQMF0ELW8"
      },
      "execution_count": 55,
      "outputs": []
    },
    {
      "cell_type": "code",
      "source": [
        "text1 = \"\"\n",
        "len(pdf_reader1.pages)\n",
        "for page_num in range(len(pdf_reader1.pages)):\n",
        "    page = pdf_reader1.pages[page_num]\n",
        "    text1 += page.extract_text()\n",
        "print (text1)\n",
        "\n",
        "text2 = \"\"\n",
        "for page_num in range(len(pdf_reader2.pages)):\n",
        "    page = pdf_reader2.pages[page_num]\n",
        "    text2 += page.extract_text()\n",
        "print (text2)\n"
      ],
      "metadata": {
        "colab": {
          "base_uri": "https://localhost:8080/"
        },
        "id": "YjRgVVBJEXqD",
        "outputId": "f4b8ccb0-c4f9-4453-9442-9829c6bdd0a2"
      },
      "execution_count": 60,
      "outputs": [
        {
          "output_type": "stream",
          "name": "stdout",
          "text": [
            "RESUMO\n",
            "Com o avanço tecnológico da informática aplicada à Cartografia, é crescente a \n",
            "implementação, por empresas e orgãos, de sistemas que possibilitem a informatização da \n",
            "informação geométrica, neste trabalho tratado como Sistema de Informação Cadastral. A \n",
            "Companhia Paranaense de Energia (COPEL) encontra-se em vias de implementação de \n",
            "um Sistema de Informação Cadastral. A viabilidade desta implementação depende, \n",
            "dentre outros fatores, da disponibilidade de uma base cadastral precisa e confiável. \n",
            "Muitas vezes as bases deste Sistema Cadastral, compondo diferentes regiões do estado \n",
            "do Paraná, são provenientes de mapeamentos realizados em épocas diferentes atrelados \n",
            "a referenciais distintos, nos quais foram empregados métodos de aquisição de \n",
            "coordenadas dos mais variados, não permitindo uma perfeita interligação entre as \n",
            "mesmas. O Sistema de Informação Cadastral preceitua o estabelecimento de uma base \n",
            "cadastral única. Mas, se as várias bases existentes para as diferentes regiões do estado \n",
            "não permitem a interligação entre si, faz-se necessário, a identificação dos erros \n",
            "prováveis que tenham ocorrido, na tentativa de se reduzir a influência dos mesmos na \n",
            "busca de uma interligação entre essas bases. O presente trabalho apresenta uma \n",
            "metodologia de unificação de bases cadastrais baseado na aplicação de transformações \n",
            "geométricas. Para aplicação destas transformações é necessário o conhecimento de \n",
            "parâmetros de transformação, obtidos com o conhecimento das coordenadas de pontos \n",
            "homólogos nos dois sistemas que serão envolvidos nesta transformação: a base de dados \n",
            "cadastrais da COPEL, e os obtidos com a técnica GPS. Foi estabelecida uma Rede \n",
            "Geodésica GPS, cujas estações foram materializadas em sua maioria em subestações da \n",
            "COPEL, no município de Curitiba- PR, utilizada como referência no levantamento das \n",
            "coordenadas dos postes via GPS, para o qual foi utilizado o modo estático rápido. Este \n",
            "último levantamento deu margem a aplicação da Transformação Afim Geral e \n",
            "consequentemente o estabelecimento da metodologia. Os resultados de uma área teste \n",
            "demonstram que a metodologia é aplicável, correta e evidencia possíveis incoerências no \n",
            "banco de dados utilizado.\n",
            "VIII\n",
            "\n",
            " \n",
            " \n",
            "RESUMO \n",
            " \n",
            "O avanço da eletrônica e a expansão das constelações GNSS ( Global \n",
            "Navigation Satellite System ) têm impulsionado a utilização cada vez mais frequente \n",
            "do PPP ( Precise Point Positioning ), permitindo algoritmos de posicionamento \n",
            "otimizados para os usuários finais. Esta pesquisa aborda a impo rtância do PPP em \n",
            "projetos de engenharia, com ênfase no monitoramento de estrutur as. O \n",
            "monitoramento de estruturas em ambientes urbanos é essencial pa ra assegurar a \n",
            "integridade e a segurança das infraestruturas em áreas densamen te povoadas. Com \n",
            "o crescimento urbano e a complexidade das atividades em regiões  metropolitanas, o \n",
            "acompanhamento contínuo de estruturas, tais como pontes, edifíc ios e túneis é \n",
            "relevante para a detecção precoce de potenciais danos, permitin do intervenções. \n",
            "Além de garantir a segurança, o monitoramento contribui para a manutenção \n",
            "adequada das estruturas urbanas em constante evolução. Estudos recentes \n",
            "demonstram os benefícios do posicionamento multi-GNSS com a adi ção de \n",
            "constelações como Galileo e BDS, alcançando acurácia centimétri ca.  Dessa forma, \n",
            "esse trabalho busca investigar e quantificar possíveis ganhos n a qualidade dos \n",
            "resultados posicionais obtidos com o método PPP em ambientes ur banos, face ao uso \n",
            "de múltiplas constelações GNSS. Com isso pretende-se expandir o s horizontes para \n",
            "o emprego do PPP em aplicações de monitoramento geodésico de es truturas nessas \n",
            "regiões. Os resultados obtidos indicam que ainda existem desafi os a serem superados \n",
            "para alcançar uma precisão comparável ao posicionamento relativ o. No entanto, a \n",
            "análise da performance do PPP em ambiente urbano, com o uso de novas \n",
            "constelações, abre perspectivas promissoras para a automação na  detecção de \n",
            "deslocamentos com o método. \n",
            " \n",
            "Palavras-chave: PPP 1. GNSS 2. Multi-constelações 3.  \n",
            "  \n"
          ]
        }
      ]
    },
    {
      "cell_type": "code",
      "source": [
        "words1 = text1.split()\n",
        "word_counts1 = Counter(words1)\n",
        "print(words1)\n",
        "words2 = text2.split()\n",
        "word_counts2 = Counter(words2)\n",
        "print(words2)"
      ],
      "metadata": {
        "colab": {
          "base_uri": "https://localhost:8080/"
        },
        "id": "qIVLPtwbEYqw",
        "outputId": "1ec99dd3-7f7e-4c10-b772-ac4c075b217f"
      },
      "execution_count": 63,
      "outputs": [
        {
          "output_type": "stream",
          "name": "stdout",
          "text": [
            "['RESUMO', 'Com', 'o', 'avanço', 'tecnológico', 'da', 'informática', 'aplicada', 'à', 'Cartografia,', 'é', 'crescente', 'a', 'implementação,', 'por', 'empresas', 'e', 'orgãos,', 'de', 'sistemas', 'que', 'possibilitem', 'a', 'informatização', 'da', 'informação', 'geométrica,', 'neste', 'trabalho', 'tratado', 'como', 'Sistema', 'de', 'Informação', 'Cadastral.', 'A', 'Companhia', 'Paranaense', 'de', 'Energia', '(COPEL)', 'encontra-se', 'em', 'vias', 'de', 'implementação', 'de', 'um', 'Sistema', 'de', 'Informação', 'Cadastral.', 'A', 'viabilidade', 'desta', 'implementação', 'depende,', 'dentre', 'outros', 'fatores,', 'da', 'disponibilidade', 'de', 'uma', 'base', 'cadastral', 'precisa', 'e', 'confiável.', 'Muitas', 'vezes', 'as', 'bases', 'deste', 'Sistema', 'Cadastral,', 'compondo', 'diferentes', 'regiões', 'do', 'estado', 'do', 'Paraná,', 'são', 'provenientes', 'de', 'mapeamentos', 'realizados', 'em', 'épocas', 'diferentes', 'atrelados', 'a', 'referenciais', 'distintos,', 'nos', 'quais', 'foram', 'empregados', 'métodos', 'de', 'aquisição', 'de', 'coordenadas', 'dos', 'mais', 'variados,', 'não', 'permitindo', 'uma', 'perfeita', 'interligação', 'entre', 'as', 'mesmas.', 'O', 'Sistema', 'de', 'Informação', 'Cadastral', 'preceitua', 'o', 'estabelecimento', 'de', 'uma', 'base', 'cadastral', 'única.', 'Mas,', 'se', 'as', 'várias', 'bases', 'existentes', 'para', 'as', 'diferentes', 'regiões', 'do', 'estado', 'não', 'permitem', 'a', 'interligação', 'entre', 'si,', 'faz-se', 'necessário,', 'a', 'identificação', 'dos', 'erros', 'prováveis', 'que', 'tenham', 'ocorrido,', 'na', 'tentativa', 'de', 'se', 'reduzir', 'a', 'influência', 'dos', 'mesmos', 'na', 'busca', 'de', 'uma', 'interligação', 'entre', 'essas', 'bases.', 'O', 'presente', 'trabalho', 'apresenta', 'uma', 'metodologia', 'de', 'unificação', 'de', 'bases', 'cadastrais', 'baseado', 'na', 'aplicação', 'de', 'transformações', 'geométricas.', 'Para', 'aplicação', 'destas', 'transformações', 'é', 'necessário', 'o', 'conhecimento', 'de', 'parâmetros', 'de', 'transformação,', 'obtidos', 'com', 'o', 'conhecimento', 'das', 'coordenadas', 'de', 'pontos', 'homólogos', 'nos', 'dois', 'sistemas', 'que', 'serão', 'envolvidos', 'nesta', 'transformação:', 'a', 'base', 'de', 'dados', 'cadastrais', 'da', 'COPEL,', 'e', 'os', 'obtidos', 'com', 'a', 'técnica', 'GPS.', 'Foi', 'estabelecida', 'uma', 'Rede', 'Geodésica', 'GPS,', 'cujas', 'estações', 'foram', 'materializadas', 'em', 'sua', 'maioria', 'em', 'subestações', 'da', 'COPEL,', 'no', 'município', 'de', 'Curitiba-', 'PR,', 'utilizada', 'como', 'referência', 'no', 'levantamento', 'das', 'coordenadas', 'dos', 'postes', 'via', 'GPS,', 'para', 'o', 'qual', 'foi', 'utilizado', 'o', 'modo', 'estático', 'rápido.', 'Este', 'último', 'levantamento', 'deu', 'margem', 'a', 'aplicação', 'da', 'Transformação', 'Afim', 'Geral', 'e', 'consequentemente', 'o', 'estabelecimento', 'da', 'metodologia.', 'Os', 'resultados', 'de', 'uma', 'área', 'teste', 'demonstram', 'que', 'a', 'metodologia', 'é', 'aplicável,', 'correta', 'e', 'evidencia', 'possíveis', 'incoerências', 'no', 'banco', 'de', 'dados', 'utilizado.', 'VIII']\n",
            "['RESUMO', 'O', 'avanço', 'da', 'eletrônica', 'e', 'a', 'expansão', 'das', 'constelações', 'GNSS', '(', 'Global', 'Navigation', 'Satellite', 'System', ')', 'têm', 'impulsionado', 'a', 'utilização', 'cada', 'vez', 'mais', 'frequente', 'do', 'PPP', '(', 'Precise', 'Point', 'Positioning', '),', 'permitindo', 'algoritmos', 'de', 'posicionamento', 'otimizados', 'para', 'os', 'usuários', 'finais.', 'Esta', 'pesquisa', 'aborda', 'a', 'impo', 'rtância', 'do', 'PPP', 'em', 'projetos', 'de', 'engenharia,', 'com', 'ênfase', 'no', 'monitoramento', 'de', 'estrutur', 'as.', 'O', 'monitoramento', 'de', 'estruturas', 'em', 'ambientes', 'urbanos', 'é', 'essencial', 'pa', 'ra', 'assegurar', 'a', 'integridade', 'e', 'a', 'segurança', 'das', 'infraestruturas', 'em', 'áreas', 'densamen', 'te', 'povoadas.', 'Com', 'o', 'crescimento', 'urbano', 'e', 'a', 'complexidade', 'das', 'atividades', 'em', 'regiões', 'metropolitanas,', 'o', 'acompanhamento', 'contínuo', 'de', 'estruturas,', 'tais', 'como', 'pontes,', 'edifíc', 'ios', 'e', 'túneis', 'é', 'relevante', 'para', 'a', 'detecção', 'precoce', 'de', 'potenciais', 'danos,', 'permitin', 'do', 'intervenções.', 'Além', 'de', 'garantir', 'a', 'segurança,', 'o', 'monitoramento', 'contribui', 'para', 'a', 'manutenção', 'adequada', 'das', 'estruturas', 'urbanas', 'em', 'constante', 'evolução.', 'Estudos', 'recentes', 'demonstram', 'os', 'benefícios', 'do', 'posicionamento', 'multi-GNSS', 'com', 'a', 'adi', 'ção', 'de', 'constelações', 'como', 'Galileo', 'e', 'BDS,', 'alcançando', 'acurácia', 'centimétri', 'ca.', 'Dessa', 'forma,', 'esse', 'trabalho', 'busca', 'investigar', 'e', 'quantificar', 'possíveis', 'ganhos', 'n', 'a', 'qualidade', 'dos', 'resultados', 'posicionais', 'obtidos', 'com', 'o', 'método', 'PPP', 'em', 'ambientes', 'ur', 'banos,', 'face', 'ao', 'uso', 'de', 'múltiplas', 'constelações', 'GNSS.', 'Com', 'isso', 'pretende-se', 'expandir', 'o', 's', 'horizontes', 'para', 'o', 'emprego', 'do', 'PPP', 'em', 'aplicações', 'de', 'monitoramento', 'geodésico', 'de', 'es', 'truturas', 'nessas', 'regiões.', 'Os', 'resultados', 'obtidos', 'indicam', 'que', 'ainda', 'existem', 'desafi', 'os', 'a', 'serem', 'superados', 'para', 'alcançar', 'uma', 'precisão', 'comparável', 'ao', 'posicionamento', 'relativ', 'o.', 'No', 'entanto,', 'a', 'análise', 'da', 'performance', 'do', 'PPP', 'em', 'ambiente', 'urbano,', 'com', 'o', 'uso', 'de', 'novas', 'constelações,', 'abre', 'perspectivas', 'promissoras', 'para', 'a', 'automação', 'na', 'detecção', 'de', 'deslocamentos', 'com', 'o', 'método.', 'Palavras-chave:', 'PPP', '1.', 'GNSS', '2.', 'Multi-constelações', '3.']\n"
          ]
        }
      ]
    },
    {
      "cell_type": "code",
      "source": [
        "# Find the words that appear in both files\n",
        "common_words = set(word_counts1.keys()) & set(word_counts2.keys())\n",
        "\n",
        "# Count the number of common words in each file\n",
        "common_words_count1 = sum(word_counts1[word] for word in common_words)\n",
        "common_words_count2 = sum(word_counts2[word] for word in common_words)\n",
        "\n",
        "# Compare the number of common words\n",
        "if common_words_count1 > common_words_count2:\n",
        "    print('File 1 has better recognition')\n",
        "elif common_words_count2 > common_words_count1:\n",
        "    print('File 2 has better recognition')\n",
        "else:\n",
        "    print('Both files have the same recognition')"
      ],
      "metadata": {
        "colab": {
          "base_uri": "https://localhost:8080/"
        },
        "id": "z4boSLIuEjrP",
        "outputId": "a727d3f5-fc56-40ff-acb7-b406bbc826f5"
      },
      "execution_count": 64,
      "outputs": [
        {
          "output_type": "stream",
          "name": "stdout",
          "text": [
            "File 1 has better recognition\n"
          ]
        }
      ]
    }
  ]
}