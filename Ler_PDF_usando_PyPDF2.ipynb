{
  "nbformat": 4,
  "nbformat_minor": 0,
  "metadata": {
    "colab": {
      "provenance": [],
      "authorship_tag": "ABX9TyORpiBV6J0m4WIBtapOO9nw",
      "include_colab_link": true
    },
    "kernelspec": {
      "name": "python3",
      "display_name": "Python 3"
    },
    "language_info": {
      "name": "python"
    }
  },
  "cells": [
    {
      "cell_type": "markdown",
      "metadata": {
        "id": "view-in-github",
        "colab_type": "text"
      },
      "source": [
        "<a href=\"https://colab.research.google.com/github/edsonflavio/TE-PLNACG2024/blob/main/Ler_PDF_usando_PyPDF2.ipynb\" target=\"_parent\"><img src=\"https://colab.research.google.com/assets/colab-badge.svg\" alt=\"Open In Colab\"/></a>"
      ]
    },
    {
      "cell_type": "code",
      "source": [
        "!pip3 install PyPDF2"
      ],
      "metadata": {
        "colab": {
          "base_uri": "https://localhost:8080/"
        },
        "id": "qF3W1qP4ErBE",
        "outputId": "95a83f16-cf89-4ab4-a184-20d448f0d122"
      },
      "execution_count": 6,
      "outputs": [
        {
          "output_type": "stream",
          "name": "stdout",
          "text": [
            "Collecting PyPDF2\n",
            "  Downloading pypdf2-3.0.1-py3-none-any.whl (232 kB)\n",
            "\u001b[?25l     \u001b[90m━━━━━━━━━━━━━━━━━━━━━━━━━━━━━━━━━━━━━━━━\u001b[0m \u001b[32m0.0/232.6 kB\u001b[0m \u001b[31m?\u001b[0m eta \u001b[36m-:--:--\u001b[0m\r\u001b[2K     \u001b[91m━━━━━━━━━━━━━━━\u001b[0m\u001b[91m╸\u001b[0m\u001b[90m━━━━━━━━━━━━━━━━━━━━━━━━\u001b[0m \u001b[32m92.2/232.6 kB\u001b[0m \u001b[31m2.7 MB/s\u001b[0m eta \u001b[36m0:00:01\u001b[0m\r\u001b[2K     \u001b[90m━━━━━━━━━━━━━━━━━━━━━━━━━━━━━━━━━━━━━━━━\u001b[0m \u001b[32m232.6/232.6 kB\u001b[0m \u001b[31m4.2 MB/s\u001b[0m eta \u001b[36m0:00:00\u001b[0m\n",
            "\u001b[?25hInstalling collected packages: PyPDF2\n",
            "Successfully installed PyPDF2-3.0.1\n"
          ]
        }
      ]
    },
    {
      "cell_type": "code",
      "source": [
        "# prompt: conectar no meu drive\n",
        "\n",
        "from google.colab import drive\n",
        "drive.mount('/content/drive')\n"
      ],
      "metadata": {
        "colab": {
          "base_uri": "https://localhost:8080/"
        },
        "id": "3nyAUJi4FJxK",
        "outputId": "c2e364a4-8d6c-48e7-ab4e-45000b68efad"
      },
      "execution_count": 9,
      "outputs": [
        {
          "output_type": "stream",
          "name": "stdout",
          "text": [
            "Mounted at /content/drive\n"
          ]
        }
      ]
    },
    {
      "cell_type": "code",
      "source": [
        "!cd drive/MyDrive/ && ls *.pdf -al"
      ],
      "metadata": {
        "colab": {
          "base_uri": "https://localhost:8080/"
        },
        "id": "6vJQh62iFnYu",
        "outputId": "3f236eb5-dc96-44d9-9c63-2da556977046"
      },
      "execution_count": 13,
      "outputs": [
        {
          "output_type": "stream",
          "name": "stdout",
          "text": [
            "-rw------- 1 root root        0 Feb 24  2015  15001722638.pdf\n",
            "-rw------- 1 root root  1408700 Apr 23  2017 '2016-05-11 - Documento referencia autenticacao - FINAL.pdf'\n",
            "-rw------- 1 root root  2214799 Nov  1 01:03  653988a3251abbc84c2874f3_ebook_black_dos_fretes_23.pdf\n",
            "-rw------- 1 root root   148442 Feb 27  2019 'Agendamento INSS.pdf'\n",
            "-rw------- 1 root root 52695420 Apr 24  2019 'american english studentbook workbook second edition.pdf'\n",
            "-rw------- 1 root root  1151420 May 11  2022  APOSTILA_GEODESIA_UFPR_2007.pdf\n",
            "-rw------- 1 root root   324342 May 19  2022  apostila-introducao-shell.pdf\n",
            "-rw------- 1 root root  1601540 Feb 13  2019 'Apostila super-heróis.pdf'\n",
            "-rw------- 1 root root   728391 Apr 23  2017  BPMN.pdf\n",
            "-rw------- 1 root root    23943 Aug 16  2019 'Carta à Jaqueline (1).pdf'\n",
            "-rw------- 1 root root    23947 Aug 16  2019 'Carta à Jaqueline (2).pdf'\n",
            "-rw------- 1 root root    24146 Aug 16  2019 'Carta à Jaqueline.pdf'\n",
            "-rw------- 1 root root  4145633 Mar  1  2019 'Cartelas Corrupção tem jeito.pdf'\n",
            "-rw------- 1 root root   157742 Jul  4  2016 'CFTV - Acessos.pdf'\n",
            "-rw------- 1 root root   192192 Mar  1  2014 'Conteúdo Programático Nível Superior.pdf'\n",
            "-rw------- 1 root root    51968 Feb 24  2023  contracheque_2_2023.pdf\n",
            "-rw------- 1 root root  2363186 Mar  1  2019 'Controle Externo das Aquisições.pdf'\n",
            "-rw------- 1 root root  2090410 Oct 23  2017 'Cópia de Acesso à informação para a produção do conhecimento - 2017-08-30.pdf'\n",
            "-rw------- 1 root root  8753597 Jan 30  2017  Cópia-de-Livro-Lilleliis-Magical-Amigurumi-Toys.pdf\n",
            "-rw------- 1 root root    17964 May  1  2019  declaracao.1556672225289.pdf\n",
            "-rw------- 1 root root   264948 Jan 31  2013 'Decreto nº 7892.pdf'\n",
            "-r-------- 1 root root  8055386 Nov  5  2021  ebook-firewall-com-pfsense-guia-rapido-pedro-delfino.pdf\n",
            "-rw------- 1 root root   156228 May 18  2017  edson-cv.pdf\n",
            "-rw------- 1 root root   212978 Aug  9  2022  exame-periodico_guias.pdf\n",
            "-rw------- 1 root root   153658 Apr  9  2020  ExtratoIRCaixa-FinanciamentoImovel.pdf\n",
            "-rw------- 1 root root   123268 Mar  1  2019 'Fatores Habilitadores - Terceirização de TI - 6847-17246-1-SM.pdf'\n",
            "-rw------- 1 root root   144191 Oct 14  2017  fatura.pdf\n",
            "-rw------- 1 root root  4347475 May 11  2022  GEODESIA_APOSTILA_2018_25_jun.pdf\n",
            "-rw------- 1 root root  1807805 Feb 10  2021 'Gerência de Projetos - EXTENSÃO 2017 - Inicio Escopo Qualidade Prazo Custo.pdf'\n",
            "-rw------- 1 root root   919369 Oct 26  2013  GuiaComiteTI.pdf\n",
            "-r-------- 1 root root   528345 Sep 14  2017  IMPLEMENTAÇÃO.pdf\n",
            "-rw------- 1 root root    78142 Aug  9  2019  Internet___Ban:king:::CAIXA.pdf\n",
            "-rw------- 1 root root    66624 Oct 21  2013  inventario-de-necessidades-PDTI.pdf\n",
            "-rw------- 1 root root    36303 May 21  2023  IRPF2022.pdf\n",
            "-rw------- 1 root root   598923 May 16  2018  manual_elaboracao_plano_dados_abertos.pdf\n",
            "-rw------- 1 root root  2145366 Oct 19  2014  manual_instalacao_certificado_digital_ipad4.pdf\n",
            "-rw------- 1 root root  2483013 Jun 20  2017 'Manual - Secao de Modelagem de Processo.pdf'\n",
            "-rw------- 1 root root  9030479 May 27  2022 'Mastering GeoServer (Colin Henderson) (z-lib.org).pdf'\n",
            "-rw------- 1 root root 25916140 May 27  2022 'Mastering PostGIS Modern ways to create, analyze, and implement spatial data (Dominik Mikiewicz, Michal Mackiewicz etc.) (z-lib.org).pdf'\n",
            "-rw------- 1 root root    34076 Sep 12  2021 'Nota Pública - NC Reprocessamento PS2021.pdf'\n",
            "-rw------- 1 root root    70853 May 24  2018 'Notificação extra-judicial - BB - Mãe.pdf'\n",
            "-rw------- 1 root root  1404910 May 24  2018 'Notificação extra-judicial - Edson Protocolada.pdf'\n",
            "-rw------- 1 root root   578960 Jan 31  2013 'OFÍCIO-CIRCULAR Nº 01-2013 29-01-2013.pdf'\n",
            "-rw------- 1 root root    64483 Dec 29  2016 'Oficio de Aceite HP_UFPR_OPI-0125375744__UFRN.pdf'\n",
            "-rw------- 1 root root  3722749 May 12  2022 'Perfil MGB 2.0.pdf'\n",
            "-rw------- 1 root root  3638870 Jun 22  2018  plano-de-dados-abertos-pda-gsi-2017-2018.pdf\n",
            "-rw------- 1 root root 32395055 May 27  2022 'PostGIS Cookbook Store, organize, manipulate, and analyze spatial data (Mayra Zurbaran et al.) (z-lib.org).pdf'\n",
            "-rw------- 1 root root 47540150 May 27  2022 'PostGIS in Action, 3rd Edition (Leo S. Hsu, Regina Obe) (z-lib.org).pdf'\n",
            "-rw------- 1 root root  1823490 May 27  2022 'Python e Django Fundamentos - Ramiro B. da Luz.pdf'\n",
            "-rw------- 1 root root   146213 Nov 12  2013 'Questionamento ao MPF - Carteirinhas Santander.pdf'\n",
            "-rw------- 1 root root   128395 Oct 14 07:37  Rep_equiv_elipsoide.pdf\n",
            "-rw------- 1 root root    77254 Apr  4 16:46 'Resumo 01 MARCELO JOSE PEREIRA DA CUNHA.pdf'\n",
            "-rw------- 1 root root   107403 Apr  4 16:53 'Resumo 02 VITOR CORREA DE BRITO.pdf'\n",
            "-rw------- 1 root root   865708 Nov 15  2016 'RNP - Associados Corporativos - Parecer Jurídico Orçamentário.pdf'\n",
            "-rw------- 1 root root    13076 Sep  2  2020 'SIGEleição - Sistema Integrado de Gestão de Eleições.pdf'\n",
            "-rw------- 1 root root  1285779 Oct 14 07:37  sistema_utm.pdf\n",
            "-rw------- 1 root root  1005733 Nov 26  2015 'Site Survey - UFPR_v3.0.pdf'\n",
            "-rw------- 1 root root   448712 Aug  5  2022 'Solicitação de Exame - Ultrassonografia.pdf'\n",
            "-rw------- 1 root root  2681321 May 18  2022  spatial_database_systems_-_postgis_parte_2.pdf\n",
            "-rw------- 1 root root 11476841 Oct 14 07:38  vF_OficinaINDE_QualidadeDadosGeoespaciais_31marco2023.pdf\n",
            "-rw------- 1 root root   230964 Dec 12  2017  Vivian.pdf\n",
            "-rw------- 1 root root   127273 Oct  3  2017 'Votantes HC.pdf'\n"
          ]
        }
      ]
    },
    {
      "cell_type": "code",
      "source": [],
      "metadata": {
        "id": "BMssR7rbGAEJ"
      },
      "execution_count": null,
      "outputs": []
    },
    {
      "cell_type": "code",
      "execution_count": 17,
      "metadata": {
        "id": "xYVj_kOMEDVL"
      },
      "outputs": [],
      "source": [
        "import PyPDF2\n",
        "from collections import Counter"
      ]
    },
    {
      "cell_type": "code",
      "source": [
        "file1 = open('/content/drive/MyDrive/Resumo 01 MARCELO JOSE PEREIRA DA CUNHA.pdf', 'rb')\n",
        "file2 = open('/content/drive/MyDrive/Resumo 02 VITOR CORREA DE BRITO.pdf', 'rb')\n",
        "\n",
        "pdf_reader1 = PyPDF2.PdfReader(file1)\n",
        "pdf_reader2 = PyPDF2.PdfReader(file2)"
      ],
      "metadata": {
        "id": "g16tQMF0ELW8"
      },
      "execution_count": 55,
      "outputs": []
    },
    {
      "cell_type": "code",
      "source": [
        "text1 = \"\"\n",
        "len(pdf_reader1.pages)\n",
        "for page_num in range(len(pdf_reader1.pages)):\n",
        "    page = pdf_reader1.pages[page_num]\n",
        "    text1 += page.extract_text()\n",
        "print (text1)\n",
        "\n",
        "text2 = \"\"\n",
        "for page_num in range(len(pdf_reader2.pages)):\n",
        "    page = pdf_reader2.pages[page_num]\n",
        "    text2 += page.extract_text()\n",
        "print (text2)\n"
      ],
      "metadata": {
        "colab": {
          "base_uri": "https://localhost:8080/"
        },
        "id": "YjRgVVBJEXqD",
        "outputId": "f4b8ccb0-c4f9-4453-9442-9829c6bdd0a2"
      },
      "execution_count": 60,
      "outputs": [
        {
          "output_type": "stream",
          "name": "stdout",
          "text": [
            "RESUMO\n",
            "Com o avanço tecnológico da informática aplicada à Cartografia, é crescente a \n",
            "implementação, por empresas e orgãos, de sistemas que possibilitem a informatização da \n",
            "informação geométrica, neste trabalho tratado como Sistema de Informação Cadastral. A \n",
            "Companhia Paranaense de Energia (COPEL) encontra-se em vias de implementação de \n",
            "um Sistema de Informação Cadastral. A viabilidade desta implementação depende, \n",
            "dentre outros fatores, da disponibilidade de uma base cadastral precisa e confiável. \n",
            "Muitas vezes as bases deste Sistema Cadastral, compondo diferentes regiões do estado \n",
            "do Paraná, são provenientes de mapeamentos realizados em épocas diferentes atrelados \n",
            "a referenciais distintos, nos quais foram empregados métodos de aquisição de \n",
            "coordenadas dos mais variados, não permitindo uma perfeita interligação entre as \n",
            "mesmas. O Sistema de Informação Cadastral preceitua o estabelecimento de uma base \n",
            "cadastral única. Mas, se as várias bases existentes para as diferentes regiões do estado \n",
            "não permitem a interligação entre si, faz-se necessário, a identificação dos erros \n",
            "prováveis que tenham ocorrido, na tentativa de se reduzir a influência dos mesmos na \n",
            "busca de uma interligação entre essas bases. O presente trabalho apresenta uma \n",
            "metodologia de unificação de bases cadastrais baseado na aplicação de transformações \n",
            "geométricas. Para aplicação destas transformações é necessário o conhecimento de \n",
            "parâmetros de transformação, obtidos com o conhecimento das coordenadas de pontos \n",
            "homólogos nos dois sistemas que serão envolvidos nesta transformação: a base de dados \n",
            "cadastrais da COPEL, e os obtidos com a técnica GPS. Foi estabelecida uma Rede \n",
            "Geodésica GPS, cujas estações foram materializadas em sua maioria em subestações da \n",
            "COPEL, no município de Curitiba- PR, utilizada como referência no levantamento das \n",
            "coordenadas dos postes via GPS, para o qual foi utilizado o modo estático rápido. Este \n",
            "último levantamento deu margem a aplicação da Transformação Afim Geral e \n",
            "consequentemente o estabelecimento da metodologia. Os resultados de uma área teste \n",
            "demonstram que a metodologia é aplicável, correta e evidencia possíveis incoerências no \n",
            "banco de dados utilizado.\n",
            "VIII\n",
            "\n",
            " \n",
            " \n",
            "RESUMO \n",
            " \n",
            "O avanço da eletrônica e a expansão das constelações GNSS ( Global \n",
            "Navigation Satellite System ) têm impulsionado a utilização cada vez mais frequente \n",
            "do PPP ( Precise Point Positioning ), permitindo algoritmos de posicionamento \n",
            "otimizados para os usuários finais. Esta pesquisa aborda a impo rtância do PPP em \n",
            "projetos de engenharia, com ênfase no monitoramento de estrutur as. O \n",
            "monitoramento de estruturas em ambientes urbanos é essencial pa ra assegurar a \n",
            "integridade e a segurança das infraestruturas em áreas densamen te povoadas. Com \n",
            "o crescimento urbano e a complexidade das atividades em regiões  metropolitanas, o \n",
            "acompanhamento contínuo de estruturas, tais como pontes, edifíc ios e túneis é \n",
            "relevante para a detecção precoce de potenciais danos, permitin do intervenções. \n",
            "Além de garantir a segurança, o monitoramento contribui para a manutenção \n",
            "adequada das estruturas urbanas em constante evolução. Estudos recentes \n",
            "demonstram os benefícios do posicionamento multi-GNSS com a adi ção de \n",
            "constelações como Galileo e BDS, alcançando acurácia centimétri ca.  Dessa forma, \n",
            "esse trabalho busca investigar e quantificar possíveis ganhos n a qualidade dos \n",
            "resultados posicionais obtidos com o método PPP em ambientes ur banos, face ao uso \n",
            "de múltiplas constelações GNSS. Com isso pretende-se expandir o s horizontes para \n",
            "o emprego do PPP em aplicações de monitoramento geodésico de es truturas nessas \n",
            "regiões. Os resultados obtidos indicam que ainda existem desafi os a serem superados \n",
            "para alcançar uma precisão comparável ao posicionamento relativ o. No entanto, a \n",
            "análise da performance do PPP em ambiente urbano, com o uso de novas \n",
            "constelações, abre perspectivas promissoras para a automação na  detecção de \n",
            "deslocamentos com o método. \n",
            " \n",
            "Palavras-chave: PPP 1. GNSS 2. Multi-constelações 3.  \n",
            "  \n"
          ]
        }
      ]
    },
    {
      "cell_type": "code",
      "source": [
        "words1 = text1.split()\n",
        "word_counts1 = Counter(words1)\n",
        "print(words1)\n",
        "words2 = text2.split()\n",
        "word_counts2 = Counter(words2)\n",
        "print(words2)"
      ],
      "metadata": {
        "colab": {
          "base_uri": "https://localhost:8080/"
        },
        "id": "qIVLPtwbEYqw",
        "outputId": "1ec99dd3-7f7e-4c10-b772-ac4c075b217f"
      },
      "execution_count": 63,
      "outputs": [
        {
          "output_type": "stream",
          "name": "stdout",
          "text": [
            "['RESUMO', 'Com', 'o', 'avanço', 'tecnológico', 'da', 'informática', 'aplicada', 'à', 'Cartografia,', 'é', 'crescente', 'a', 'implementação,', 'por', 'empresas', 'e', 'orgãos,', 'de', 'sistemas', 'que', 'possibilitem', 'a', 'informatização', 'da', 'informação', 'geométrica,', 'neste', 'trabalho', 'tratado', 'como', 'Sistema', 'de', 'Informação', 'Cadastral.', 'A', 'Companhia', 'Paranaense', 'de', 'Energia', '(COPEL)', 'encontra-se', 'em', 'vias', 'de', 'implementação', 'de', 'um', 'Sistema', 'de', 'Informação', 'Cadastral.', 'A', 'viabilidade', 'desta', 'implementação', 'depende,', 'dentre', 'outros', 'fatores,', 'da', 'disponibilidade', 'de', 'uma', 'base', 'cadastral', 'precisa', 'e', 'confiável.', 'Muitas', 'vezes', 'as', 'bases', 'deste', 'Sistema', 'Cadastral,', 'compondo', 'diferentes', 'regiões', 'do', 'estado', 'do', 'Paraná,', 'são', 'provenientes', 'de', 'mapeamentos', 'realizados', 'em', 'épocas', 'diferentes', 'atrelados', 'a', 'referenciais', 'distintos,', 'nos', 'quais', 'foram', 'empregados', 'métodos', 'de', 'aquisição', 'de', 'coordenadas', 'dos', 'mais', 'variados,', 'não', 'permitindo', 'uma', 'perfeita', 'interligação', 'entre', 'as', 'mesmas.', 'O', 'Sistema', 'de', 'Informação', 'Cadastral', 'preceitua', 'o', 'estabelecimento', 'de', 'uma', 'base', 'cadastral', 'única.', 'Mas,', 'se', 'as', 'várias', 'bases', 'existentes', 'para', 'as', 'diferentes', 'regiões', 'do', 'estado', 'não', 'permitem', 'a', 'interligação', 'entre', 'si,', 'faz-se', 'necessário,', 'a', 'identificação', 'dos', 'erros', 'prováveis', 'que', 'tenham', 'ocorrido,', 'na', 'tentativa', 'de', 'se', 'reduzir', 'a', 'influência', 'dos', 'mesmos', 'na', 'busca', 'de', 'uma', 'interligação', 'entre', 'essas', 'bases.', 'O', 'presente', 'trabalho', 'apresenta', 'uma', 'metodologia', 'de', 'unificação', 'de', 'bases', 'cadastrais', 'baseado', 'na', 'aplicação', 'de', 'transformações', 'geométricas.', 'Para', 'aplicação', 'destas', 'transformações', 'é', 'necessário', 'o', 'conhecimento', 'de', 'parâmetros', 'de', 'transformação,', 'obtidos', 'com', 'o', 'conhecimento', 'das', 'coordenadas', 'de', 'pontos', 'homólogos', 'nos', 'dois', 'sistemas', 'que', 'serão', 'envolvidos', 'nesta', 'transformação:', 'a', 'base', 'de', 'dados', 'cadastrais', 'da', 'COPEL,', 'e', 'os', 'obtidos', 'com', 'a', 'técnica', 'GPS.', 'Foi', 'estabelecida', 'uma', 'Rede', 'Geodésica', 'GPS,', 'cujas', 'estações', 'foram', 'materializadas', 'em', 'sua', 'maioria', 'em', 'subestações', 'da', 'COPEL,', 'no', 'município', 'de', 'Curitiba-', 'PR,', 'utilizada', 'como', 'referência', 'no', 'levantamento', 'das', 'coordenadas', 'dos', 'postes', 'via', 'GPS,', 'para', 'o', 'qual', 'foi', 'utilizado', 'o', 'modo', 'estático', 'rápido.', 'Este', 'último', 'levantamento', 'deu', 'margem', 'a', 'aplicação', 'da', 'Transformação', 'Afim', 'Geral', 'e', 'consequentemente', 'o', 'estabelecimento', 'da', 'metodologia.', 'Os', 'resultados', 'de', 'uma', 'área', 'teste', 'demonstram', 'que', 'a', 'metodologia', 'é', 'aplicável,', 'correta', 'e', 'evidencia', 'possíveis', 'incoerências', 'no', 'banco', 'de', 'dados', 'utilizado.', 'VIII']\n",
            "['RESUMO', 'O', 'avanço', 'da', 'eletrônica', 'e', 'a', 'expansão', 'das', 'constelações', 'GNSS', '(', 'Global', 'Navigation', 'Satellite', 'System', ')', 'têm', 'impulsionado', 'a', 'utilização', 'cada', 'vez', 'mais', 'frequente', 'do', 'PPP', '(', 'Precise', 'Point', 'Positioning', '),', 'permitindo', 'algoritmos', 'de', 'posicionamento', 'otimizados', 'para', 'os', 'usuários', 'finais.', 'Esta', 'pesquisa', 'aborda', 'a', 'impo', 'rtância', 'do', 'PPP', 'em', 'projetos', 'de', 'engenharia,', 'com', 'ênfase', 'no', 'monitoramento', 'de', 'estrutur', 'as.', 'O', 'monitoramento', 'de', 'estruturas', 'em', 'ambientes', 'urbanos', 'é', 'essencial', 'pa', 'ra', 'assegurar', 'a', 'integridade', 'e', 'a', 'segurança', 'das', 'infraestruturas', 'em', 'áreas', 'densamen', 'te', 'povoadas.', 'Com', 'o', 'crescimento', 'urbano', 'e', 'a', 'complexidade', 'das', 'atividades', 'em', 'regiões', 'metropolitanas,', 'o', 'acompanhamento', 'contínuo', 'de', 'estruturas,', 'tais', 'como', 'pontes,', 'edifíc', 'ios', 'e', 'túneis', 'é', 'relevante', 'para', 'a', 'detecção', 'precoce', 'de', 'potenciais', 'danos,', 'permitin', 'do', 'intervenções.', 'Além', 'de', 'garantir', 'a', 'segurança,', 'o', 'monitoramento', 'contribui', 'para', 'a', 'manutenção', 'adequada', 'das', 'estruturas', 'urbanas', 'em', 'constante', 'evolução.', 'Estudos', 'recentes', 'demonstram', 'os', 'benefícios', 'do', 'posicionamento', 'multi-GNSS', 'com', 'a', 'adi', 'ção', 'de', 'constelações', 'como', 'Galileo', 'e', 'BDS,', 'alcançando', 'acurácia', 'centimétri', 'ca.', 'Dessa', 'forma,', 'esse', 'trabalho', 'busca', 'investigar', 'e', 'quantificar', 'possíveis', 'ganhos', 'n', 'a', 'qualidade', 'dos', 'resultados', 'posicionais', 'obtidos', 'com', 'o', 'método', 'PPP', 'em', 'ambientes', 'ur', 'banos,', 'face', 'ao', 'uso', 'de', 'múltiplas', 'constelações', 'GNSS.', 'Com', 'isso', 'pretende-se', 'expandir', 'o', 's', 'horizontes', 'para', 'o', 'emprego', 'do', 'PPP', 'em', 'aplicações', 'de', 'monitoramento', 'geodésico', 'de', 'es', 'truturas', 'nessas', 'regiões.', 'Os', 'resultados', 'obtidos', 'indicam', 'que', 'ainda', 'existem', 'desafi', 'os', 'a', 'serem', 'superados', 'para', 'alcançar', 'uma', 'precisão', 'comparável', 'ao', 'posicionamento', 'relativ', 'o.', 'No', 'entanto,', 'a', 'análise', 'da', 'performance', 'do', 'PPP', 'em', 'ambiente', 'urbano,', 'com', 'o', 'uso', 'de', 'novas', 'constelações,', 'abre', 'perspectivas', 'promissoras', 'para', 'a', 'automação', 'na', 'detecção', 'de', 'deslocamentos', 'com', 'o', 'método.', 'Palavras-chave:', 'PPP', '1.', 'GNSS', '2.', 'Multi-constelações', '3.']\n"
          ]
        }
      ]
    },
    {
      "cell_type": "code",
      "source": [
        "# Find the words that appear in both files\n",
        "common_words = set(word_counts1.keys()) & set(word_counts2.keys())\n",
        "\n",
        "# Count the number of common words in each file\n",
        "common_words_count1 = sum(word_counts1[word] for word in common_words)\n",
        "common_words_count2 = sum(word_counts2[word] for word in common_words)\n",
        "\n",
        "# Compare the number of common words\n",
        "if common_words_count1 > common_words_count2:\n",
        "    print('File 1 has better recognition')\n",
        "elif common_words_count2 > common_words_count1:\n",
        "    print('File 2 has better recognition')\n",
        "else:\n",
        "    print('Both files have the same recognition')"
      ],
      "metadata": {
        "colab": {
          "base_uri": "https://localhost:8080/"
        },
        "id": "z4boSLIuEjrP",
        "outputId": "a727d3f5-fc56-40ff-acb7-b406bbc826f5"
      },
      "execution_count": 64,
      "outputs": [
        {
          "output_type": "stream",
          "name": "stdout",
          "text": [
            "File 1 has better recognition\n"
          ]
        }
      ]
    }
  ]
}